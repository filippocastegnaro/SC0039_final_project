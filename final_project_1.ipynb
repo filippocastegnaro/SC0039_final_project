{
 "cells": [
  {
   "cell_type": "code",
   "execution_count": 7,
   "id": "3a45b4ef-8dbc-4acd-afc6-98d660e5b6d4",
   "metadata": {},
   "outputs": [
    {
     "ename": "NameError",
     "evalue": "name 'new_path' is not defined",
     "output_type": "error",
     "traceback": [
      "\u001b[0;31m---------------------------------------------------------------------------\u001b[0m",
      "\u001b[0;31mNameError\u001b[0m                                 Traceback (most recent call last)",
      "Cell \u001b[0;32mIn[7], line 15\u001b[0m\n\u001b[1;32m      9\u001b[0m old_list \u001b[38;5;241m=\u001b[39m []\n\u001b[1;32m     11\u001b[0m parser \u001b[38;5;241m=\u001b[39m argparse\u001b[38;5;241m.\u001b[39mArgumentParser(\n\u001b[1;32m     12\u001b[0m                     prog\u001b[38;5;241m=\u001b[39m\u001b[38;5;124m'\u001b[39m\u001b[38;5;124mCARA_conv\u001b[39m\u001b[38;5;124m'\u001b[39m,\n\u001b[1;32m     13\u001b[0m                     description\u001b[38;5;241m=\u001b[39m\u001b[38;5;124m'\u001b[39m\u001b[38;5;124mconvert path in cara file\u001b[39m\u001b[38;5;124m'\u001b[39m)\n\u001b[0;32m---> 15\u001b[0m parser\u001b[38;5;241m.\u001b[39madd_argument(\u001b[43mnew_path\u001b[49m)\n\u001b[1;32m     16\u001b[0m args \u001b[38;5;241m=\u001b[39m parser\u001b[38;5;241m.\u001b[39mparse_args()\n\u001b[1;32m     17\u001b[0m \u001b[38;5;28mprint\u001b[39m(args\u001b[38;5;241m.\u001b[39mnew_path)\n",
      "\u001b[0;31mNameError\u001b[0m: name 'new_path' is not defined"
     ]
    }
   ],
   "source": [
    "#import os and re modules\n",
    "import os\n",
    "import re\n",
    "import argparse\n",
    "#here you can change the name of the CARA file you want to modify\n",
    "filename = 'test.cara' #old CARA file name\n",
    "new_filename = 'proc_test.cara' #new CARA file name\n",
    "\n",
    "old_list = []\n",
    "\n",
    "parser = argparse.ArgumentParser(\n",
    "                    prog='CARA_conv',\n",
    "                    description='convert path in cara file')\n",
    "\n",
    "parser.add_argument('new_path')\n",
    "args = parser.parse_args()\n",
    "print(args.new_path)\n",
    "\n",
    "with open (new_filename, 'w') as new_file: #open the CARA file for writing\n",
    "\n",
    "    with open(filename, 'r') as file:#open the same CARA file for reading the path you wnat to change\n",
    "    \n",
    "        for line in file:\n",
    "        \n",
    "            path_match = re.search(r\"path='([^']+)'\", line) #research all the paths in the CARA file and save them as paths\n",
    "            if path_match:\n",
    "                path = path_match.group(1)\n",
    "                \n",
    "    \n",
    "                if os.path.exists(path): #write every path that already exist\n",
    "                    new_file.write(line)\n",
    "                    \n",
    "    \n",
    "                else:\n",
    "                    \n",
    "                    spectrum_name = os.path.basename(path) #extract the filename from the existing path\n",
    "                   \n",
    "                    if  spectrum_name == '2rr': #exclude the filenames called 2rr\n",
    "                        new_file.write(line)\n",
    "                        continue\n",
    "                    new_line = line.replace(path, args.new_path + spectrum_name) #replace all the directories with the new path and add the filenames\n",
    "                    new_file.write(new_line) #write the new file names\n",
    "\n",
    "                    \n",
    "            else:\n",
    "                new_file.write(line) #write every other line in the CARA file that's now a path\n",
    "                    \n",
    "\n"
   ]
  },
  {
   "cell_type": "code",
   "execution_count": null,
   "id": "3daf8d43-1eb9-4469-ad02-05f823139a5a",
   "metadata": {},
   "outputs": [],
   "source": []
  },
  {
   "cell_type": "code",
   "execution_count": null,
   "id": "49f435a3-689c-4c35-a80c-9fcceb6bca1e",
   "metadata": {},
   "outputs": [],
   "source": []
  }
 ],
 "metadata": {
  "kernelspec": {
   "display_name": "Python 3 (ipykernel)",
   "language": "python",
   "name": "python3"
  },
  "language_info": {
   "codemirror_mode": {
    "name": "ipython",
    "version": 3
   },
   "file_extension": ".py",
   "mimetype": "text/x-python",
   "name": "python",
   "nbconvert_exporter": "python",
   "pygments_lexer": "ipython3",
   "version": "3.12.4"
  }
 },
 "nbformat": 4,
 "nbformat_minor": 5
}
