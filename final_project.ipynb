{
 "cells": [
  {
   "cell_type": "code",
   "execution_count": 30,
   "id": "3a45b4ef-8dbc-4acd-afc6-98d660e5b6d4",
   "metadata": {},
   "outputs": [],
   "source": [
    "#import os and re modules\n",
    "import os\n",
    "import re\n",
    "\n",
    "#here you can change the name of the CARA file you want to modify\n",
    "filename = 'test.cara' #old CARA file name\n",
    "new_filename = 'proc_test.cara' #new CARA file name\n",
    "\n",
    "#here you insert the path where your .ft3 files are located \n",
    "new_path = '/Users/xcasfi/DATA/Proc_spectra/3Ds/' #your new path\n",
    "old_list = []\n",
    "\n",
    "\n",
    "with open (new_filename, 'w') as new_file: #open the CARA file for writing\n",
    "\n",
    "    with open(filename, 'r') as file:#open the same CARA file for reading the path you wnat to change\n",
    "    \n",
    "        for line in file:\n",
    "        \n",
    "            path_match = re.search(r\"path='([^']+)'\", line) #research all the paths in the CARA file and save them as paths\n",
    "            if path_match:\n",
    "                path = path_match.group(1)\n",
    "                \n",
    "    \n",
    "                if os.path.exists(path): #write every path that already exist\n",
    "                    new_file.write(line)\n",
    "                    \n",
    "    \n",
    "                else:\n",
    "                    \n",
    "                    spectrum_name = os.path.basename(path) #extract the filename from the existing path\n",
    "                   \n",
    "                    if  spectrum_name == '2rr': #exclude the filenames called 2rr\n",
    "                        new_file.write(line)\n",
    "                        continue\n",
    "                    new_line = line.replace(path, new_path + spectrum_name) #replace all the directories with the new path and add the filenames\n",
    "                    new_file.write(new_line) #write the new file names\n",
    "\n",
    "                    \n",
    "            else:\n",
    "                new_file.write(line) #write every other line in the CARA file that's now a path\n",
    "                    \n",
    "\n",
    "\n",
    "\n",
    "        \n",
    "    \n",
    "\n",
    "                \n",
    "\n"
   ]
  },
  {
   "cell_type": "code",
   "execution_count": null,
   "id": "c1363110-9c96-4915-9151-717eab289c59",
   "metadata": {},
   "outputs": [],
   "source": []
  },
  {
   "cell_type": "code",
   "execution_count": null,
   "id": "c9338eec-8c5f-405d-b141-b17394f289c1",
   "metadata": {},
   "outputs": [],
   "source": []
  },
  {
   "cell_type": "code",
   "execution_count": null,
   "id": "ec4e648c-569e-493e-ae2c-1a84859dd3a6",
   "metadata": {},
   "outputs": [],
   "source": []
  }
 ],
 "metadata": {
  "kernelspec": {
   "display_name": "Python 3 (ipykernel)",
   "language": "python",
   "name": "python3"
  },
  "language_info": {
   "codemirror_mode": {
    "name": "ipython",
    "version": 3
   },
   "file_extension": ".py",
   "mimetype": "text/x-python",
   "name": "python",
   "nbconvert_exporter": "python",
   "pygments_lexer": "ipython3",
   "version": "3.12.4"
  }
 },
 "nbformat": 4,
 "nbformat_minor": 5
}
